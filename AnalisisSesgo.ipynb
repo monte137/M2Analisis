{
  "nbformat": 4,
  "nbformat_minor": 0,
  "metadata": {
    "colab": {
      "provenance": [],
      "authorship_tag": "ABX9TyPpxvGvzEBzJdhHraKubynJ",
      "include_colab_link": true
    },
    "kernelspec": {
      "name": "python3",
      "display_name": "Python 3"
    },
    "language_info": {
      "name": "python"
    }
  },
  "cells": [
    {
      "cell_type": "markdown",
      "metadata": {
        "id": "view-in-github",
        "colab_type": "text"
      },
      "source": [
        "<a href=\"https://colab.research.google.com/github/monte137/M2Analisis/blob/main/AnalisisSesgo.ipynb\" target=\"_parent\"><img src=\"https://colab.research.google.com/assets/colab-badge.svg\" alt=\"Open In Colab\"/></a>"
      ]
    },
    {
      "cell_type": "code",
      "execution_count": 2,
      "metadata": {
        "colab": {
          "base_uri": "https://localhost:8080/"
        },
        "id": "8aBOx5h6yleU",
        "outputId": "8d857153-a377-4089-c13a-18c2b7320c9d"
      },
      "outputs": [
        {
          "output_type": "stream",
          "name": "stdout",
          "text": [
            "Mounted at /content/gdrive\n",
            "/content\n"
          ]
        }
      ],
      "source": [
        "from google.colab import drive\n",
        "\n",
        "drive.mount(\"/content/gdrive\")  \n",
        "!pwd"
      ]
    },
    {
      "cell_type": "markdown",
      "source": [
        "Se importan los datos a utilizar, y se les asignan nombres a cada una de las columnas. En este caso se utiliza un dataset de caracteristicas de vinos, donde apartir de estas, se clasifican en 3 diferentes clases."
      ],
      "metadata": {
        "id": "9zloxj-r1eM5"
      }
    },
    {
      "cell_type": "code",
      "source": [
        "%cd \"/content/gdrive/MyDrive/ConcentracionCienciaDeDatos\"\n",
        "!ls\n",
        "import pandas as pd\n",
        "from sklearn import tree\n",
        "import numpy as np\n",
        "import matplotlib.pyplot as plt\n",
        "columns= [\"Class\",\"Alcohol\",\"Malic acid\", \"Ash\",\"Alcalinity of ash\", \"Magnesium\",\"Total phenols\",\n",
        "           \"Flavanoids\",\"Nonflavanoid phenols\",\"Proanthocyanins\",\"Color intensity\",\"Hue\",\n",
        "           \"OD280/OD315 of diluted wines\",\"Proline\"]\n",
        "df= pd.read_csv('wine.data',names= columns,index_col=False)\n",
        "df= df.sample(frac=1)\n",
        "df.head()"
      ],
      "metadata": {
        "colab": {
          "base_uri": "https://localhost:8080/",
          "height": 320
        },
        "id": "3DYvMq_RzJ6-",
        "outputId": "fc6def4d-cec3-429e-964f-984f659f84bf"
      },
      "execution_count": 88,
      "outputs": [
        {
          "output_type": "stream",
          "name": "stdout",
          "text": [
            "/content/gdrive/MyDrive/ConcentracionCienciaDeDatos\n",
            "adult.data\t iris.data   milknew.csv  Modulo3  Valhalla23.csv  wine.names\n",
            "DatosTarea.xlsx  iris.names  Modulo2\t  Reto1    wine.data\n"
          ]
        },
        {
          "output_type": "execute_result",
          "data": {
            "text/plain": [
              "     Class  Alcohol  Malic acid   Ash  Alcalinity of ash  Magnesium  \\\n",
              "18       1    14.19        1.59  2.48               16.5        108   \n",
              "112      2    11.76        2.68  2.92               20.0        103   \n",
              "80       2    12.00        0.92  2.00               19.0         86   \n",
              "169      3    13.40        4.60  2.86               25.0        112   \n",
              "84       2    11.84        0.89  2.58               18.0         94   \n",
              "\n",
              "     Total phenols  Flavanoids  Nonflavanoid phenols  Proanthocyanins  \\\n",
              "18            3.30        3.93                  0.32             1.86   \n",
              "112           1.75        2.03                  0.60             1.05   \n",
              "80            2.42        2.26                  0.30             1.43   \n",
              "169           1.98        0.96                  0.27             1.11   \n",
              "84            2.20        2.21                  0.22             2.35   \n",
              "\n",
              "     Color intensity   Hue  OD280/OD315 of diluted wines  Proline  \n",
              "18              8.70  1.23                          2.82     1680  \n",
              "112             3.80  1.23                          2.50      607  \n",
              "80              2.50  1.38                          3.12      278  \n",
              "169             8.50  0.67                          1.92      630  \n",
              "84              3.05  0.79                          3.08      520  "
            ],
            "text/html": [
              "\n",
              "  <div id=\"df-e2b067c8-034b-4247-90ba-946d0dca6246\">\n",
              "    <div class=\"colab-df-container\">\n",
              "      <div>\n",
              "<style scoped>\n",
              "    .dataframe tbody tr th:only-of-type {\n",
              "        vertical-align: middle;\n",
              "    }\n",
              "\n",
              "    .dataframe tbody tr th {\n",
              "        vertical-align: top;\n",
              "    }\n",
              "\n",
              "    .dataframe thead th {\n",
              "        text-align: right;\n",
              "    }\n",
              "</style>\n",
              "<table border=\"1\" class=\"dataframe\">\n",
              "  <thead>\n",
              "    <tr style=\"text-align: right;\">\n",
              "      <th></th>\n",
              "      <th>Class</th>\n",
              "      <th>Alcohol</th>\n",
              "      <th>Malic acid</th>\n",
              "      <th>Ash</th>\n",
              "      <th>Alcalinity of ash</th>\n",
              "      <th>Magnesium</th>\n",
              "      <th>Total phenols</th>\n",
              "      <th>Flavanoids</th>\n",
              "      <th>Nonflavanoid phenols</th>\n",
              "      <th>Proanthocyanins</th>\n",
              "      <th>Color intensity</th>\n",
              "      <th>Hue</th>\n",
              "      <th>OD280/OD315 of diluted wines</th>\n",
              "      <th>Proline</th>\n",
              "    </tr>\n",
              "  </thead>\n",
              "  <tbody>\n",
              "    <tr>\n",
              "      <th>18</th>\n",
              "      <td>1</td>\n",
              "      <td>14.19</td>\n",
              "      <td>1.59</td>\n",
              "      <td>2.48</td>\n",
              "      <td>16.5</td>\n",
              "      <td>108</td>\n",
              "      <td>3.30</td>\n",
              "      <td>3.93</td>\n",
              "      <td>0.32</td>\n",
              "      <td>1.86</td>\n",
              "      <td>8.70</td>\n",
              "      <td>1.23</td>\n",
              "      <td>2.82</td>\n",
              "      <td>1680</td>\n",
              "    </tr>\n",
              "    <tr>\n",
              "      <th>112</th>\n",
              "      <td>2</td>\n",
              "      <td>11.76</td>\n",
              "      <td>2.68</td>\n",
              "      <td>2.92</td>\n",
              "      <td>20.0</td>\n",
              "      <td>103</td>\n",
              "      <td>1.75</td>\n",
              "      <td>2.03</td>\n",
              "      <td>0.60</td>\n",
              "      <td>1.05</td>\n",
              "      <td>3.80</td>\n",
              "      <td>1.23</td>\n",
              "      <td>2.50</td>\n",
              "      <td>607</td>\n",
              "    </tr>\n",
              "    <tr>\n",
              "      <th>80</th>\n",
              "      <td>2</td>\n",
              "      <td>12.00</td>\n",
              "      <td>0.92</td>\n",
              "      <td>2.00</td>\n",
              "      <td>19.0</td>\n",
              "      <td>86</td>\n",
              "      <td>2.42</td>\n",
              "      <td>2.26</td>\n",
              "      <td>0.30</td>\n",
              "      <td>1.43</td>\n",
              "      <td>2.50</td>\n",
              "      <td>1.38</td>\n",
              "      <td>3.12</td>\n",
              "      <td>278</td>\n",
              "    </tr>\n",
              "    <tr>\n",
              "      <th>169</th>\n",
              "      <td>3</td>\n",
              "      <td>13.40</td>\n",
              "      <td>4.60</td>\n",
              "      <td>2.86</td>\n",
              "      <td>25.0</td>\n",
              "      <td>112</td>\n",
              "      <td>1.98</td>\n",
              "      <td>0.96</td>\n",
              "      <td>0.27</td>\n",
              "      <td>1.11</td>\n",
              "      <td>8.50</td>\n",
              "      <td>0.67</td>\n",
              "      <td>1.92</td>\n",
              "      <td>630</td>\n",
              "    </tr>\n",
              "    <tr>\n",
              "      <th>84</th>\n",
              "      <td>2</td>\n",
              "      <td>11.84</td>\n",
              "      <td>0.89</td>\n",
              "      <td>2.58</td>\n",
              "      <td>18.0</td>\n",
              "      <td>94</td>\n",
              "      <td>2.20</td>\n",
              "      <td>2.21</td>\n",
              "      <td>0.22</td>\n",
              "      <td>2.35</td>\n",
              "      <td>3.05</td>\n",
              "      <td>0.79</td>\n",
              "      <td>3.08</td>\n",
              "      <td>520</td>\n",
              "    </tr>\n",
              "  </tbody>\n",
              "</table>\n",
              "</div>\n",
              "      <button class=\"colab-df-convert\" onclick=\"convertToInteractive('df-e2b067c8-034b-4247-90ba-946d0dca6246')\"\n",
              "              title=\"Convert this dataframe to an interactive table.\"\n",
              "              style=\"display:none;\">\n",
              "        \n",
              "  <svg xmlns=\"http://www.w3.org/2000/svg\" height=\"24px\"viewBox=\"0 0 24 24\"\n",
              "       width=\"24px\">\n",
              "    <path d=\"M0 0h24v24H0V0z\" fill=\"none\"/>\n",
              "    <path d=\"M18.56 5.44l.94 2.06.94-2.06 2.06-.94-2.06-.94-.94-2.06-.94 2.06-2.06.94zm-11 1L8.5 8.5l.94-2.06 2.06-.94-2.06-.94L8.5 2.5l-.94 2.06-2.06.94zm10 10l.94 2.06.94-2.06 2.06-.94-2.06-.94-.94-2.06-.94 2.06-2.06.94z\"/><path d=\"M17.41 7.96l-1.37-1.37c-.4-.4-.92-.59-1.43-.59-.52 0-1.04.2-1.43.59L10.3 9.45l-7.72 7.72c-.78.78-.78 2.05 0 2.83L4 21.41c.39.39.9.59 1.41.59.51 0 1.02-.2 1.41-.59l7.78-7.78 2.81-2.81c.8-.78.8-2.07 0-2.86zM5.41 20L4 18.59l7.72-7.72 1.47 1.35L5.41 20z\"/>\n",
              "  </svg>\n",
              "      </button>\n",
              "      \n",
              "  <style>\n",
              "    .colab-df-container {\n",
              "      display:flex;\n",
              "      flex-wrap:wrap;\n",
              "      gap: 12px;\n",
              "    }\n",
              "\n",
              "    .colab-df-convert {\n",
              "      background-color: #E8F0FE;\n",
              "      border: none;\n",
              "      border-radius: 50%;\n",
              "      cursor: pointer;\n",
              "      display: none;\n",
              "      fill: #1967D2;\n",
              "      height: 32px;\n",
              "      padding: 0 0 0 0;\n",
              "      width: 32px;\n",
              "    }\n",
              "\n",
              "    .colab-df-convert:hover {\n",
              "      background-color: #E2EBFA;\n",
              "      box-shadow: 0px 1px 2px rgba(60, 64, 67, 0.3), 0px 1px 3px 1px rgba(60, 64, 67, 0.15);\n",
              "      fill: #174EA6;\n",
              "    }\n",
              "\n",
              "    [theme=dark] .colab-df-convert {\n",
              "      background-color: #3B4455;\n",
              "      fill: #D2E3FC;\n",
              "    }\n",
              "\n",
              "    [theme=dark] .colab-df-convert:hover {\n",
              "      background-color: #434B5C;\n",
              "      box-shadow: 0px 1px 3px 1px rgba(0, 0, 0, 0.15);\n",
              "      filter: drop-shadow(0px 1px 2px rgba(0, 0, 0, 0.3));\n",
              "      fill: #FFFFFF;\n",
              "    }\n",
              "  </style>\n",
              "\n",
              "      <script>\n",
              "        const buttonEl =\n",
              "          document.querySelector('#df-e2b067c8-034b-4247-90ba-946d0dca6246 button.colab-df-convert');\n",
              "        buttonEl.style.display =\n",
              "          google.colab.kernel.accessAllowed ? 'block' : 'none';\n",
              "\n",
              "        async function convertToInteractive(key) {\n",
              "          const element = document.querySelector('#df-e2b067c8-034b-4247-90ba-946d0dca6246');\n",
              "          const dataTable =\n",
              "            await google.colab.kernel.invokeFunction('convertToInteractive',\n",
              "                                                     [key], {});\n",
              "          if (!dataTable) return;\n",
              "\n",
              "          const docLinkHtml = 'Like what you see? Visit the ' +\n",
              "            '<a target=\"_blank\" href=https://colab.research.google.com/notebooks/data_table.ipynb>data table notebook</a>'\n",
              "            + ' to learn more about interactive tables.';\n",
              "          element.innerHTML = '';\n",
              "          dataTable['output_type'] = 'display_data';\n",
              "          await google.colab.output.renderOutput(dataTable, element);\n",
              "          const docLink = document.createElement('div');\n",
              "          docLink.innerHTML = docLinkHtml;\n",
              "          element.appendChild(docLink);\n",
              "        }\n",
              "      </script>\n",
              "    </div>\n",
              "  </div>\n",
              "  "
            ]
          },
          "metadata": {},
          "execution_count": 88
        }
      ]
    },
    {
      "cell_type": "markdown",
      "source": [
        "Se eliminan las clases OD280... y Proline del conjunto de datos. Y se separan los datos en x, & y, en este caso los valores objetivo o clase. Utilizando la funcion train test split, dividimos el data set en datos de entrenamiento y de test. "
      ],
      "metadata": {
        "id": "eUq5VVDF1k1X"
      }
    },
    {
      "cell_type": "code",
      "source": [
        "df_x= df.drop(['Class',\"Alcalinity of ash\", \"Magnesium\",\"Total phenols\",\n",
        "           \"Flavanoids\",\"Nonflavanoid phenols\",\"Proanthocyanins\",\"Color intensity\",\"Hue\",\n",
        "           \"OD280/OD315 of diluted wines\",\"Proline\"],axis=1)\n",
        "df_y= df['Class']\n",
        "x_train=df_x.iloc[:107]\n",
        "x_val= df_x.iloc[107:142]\n",
        "x_test= df_x.iloc[142:]\n",
        "y_train=df_y.iloc[:107]\n",
        "y_val= df_y.iloc[107:142]\n",
        "y_test= df_y.iloc[142:]"
      ],
      "metadata": {
        "id": "JPbKzJCkztx2"
      },
      "execution_count": 104,
      "outputs": []
    },
    {
      "cell_type": "code",
      "source": [],
      "metadata": {
        "id": "R2Q3JHQ3yrzo"
      },
      "execution_count": null,
      "outputs": []
    },
    {
      "cell_type": "markdown",
      "source": [],
      "metadata": {
        "id": "d1K-o_5S1KEv"
      }
    },
    {
      "cell_type": "code",
      "source": [
        "from sklearn.linear_model import LogisticRegression\n",
        "model= LogisticRegression(solver='newton-cg')\n",
        "model.fit(x_train,y_train)"
      ],
      "metadata": {
        "colab": {
          "base_uri": "https://localhost:8080/"
        },
        "id": "diQtl14jz05B",
        "outputId": "5ffbae69-dc56-429b-fe0d-88f9837316c8"
      },
      "execution_count": 105,
      "outputs": [
        {
          "output_type": "execute_result",
          "data": {
            "text/plain": [
              "LogisticRegression(solver='newton-cg')"
            ]
          },
          "metadata": {},
          "execution_count": 105
        }
      ]
    },
    {
      "cell_type": "markdown",
      "source": [
        "Estos son los puntajes obtenidos para train y para test."
      ],
      "metadata": {
        "id": "hQiO_8To10lB"
      }
    },
    {
      "cell_type": "code",
      "source": [
        "scoretrain=model.score(x_train,y_train)\n",
        "scoretest=model.score(x_test,y_test)\n",
        "print('El score obtenido en los datos de entrenamiento es:',scoretrain,'\\n')\n",
        "print('El score obtenido en los datos de test es:',scoretest)"
      ],
      "metadata": {
        "colab": {
          "base_uri": "https://localhost:8080/"
        },
        "id": "BO9d7Dn10_zI",
        "outputId": "6c8b58c6-eb2c-4b1a-a6ba-1ffb25d8d51e"
      },
      "execution_count": 106,
      "outputs": [
        {
          "output_type": "stream",
          "name": "stdout",
          "text": [
            "El score obtenido en los datos de entrenamiento es: 0.7850467289719626 \n",
            "\n",
            "El score obtenido en los datos de test es: 0.8333333333333334\n"
          ]
        }
      ]
    },
    {
      "cell_type": "markdown",
      "source": [
        "Matriz de confusion"
      ],
      "metadata": {
        "id": "O3gaKI9UqPnL"
      }
    },
    {
      "cell_type": "code",
      "source": [
        "from sklearn.metrics import confusion_matrix\n",
        "ypred= model.predict(x_val)\n",
        "a= confusion_matrix(y_val,ypred)\n",
        "from sklearn.metrics import ConfusionMatrixDisplay\n",
        "ConfusionMatrixDisplay.from_predictions(y_val, ypred)"
      ],
      "metadata": {
        "colab": {
          "base_uri": "https://localhost:8080/",
          "height": 300
        },
        "id": "0pTO2v8UHml6",
        "outputId": "09d35d02-361f-4143-812e-95f230b4ace8"
      },
      "execution_count": 107,
      "outputs": [
        {
          "output_type": "execute_result",
          "data": {
            "text/plain": [
              "<sklearn.metrics._plot.confusion_matrix.ConfusionMatrixDisplay at 0x7f1e9139b350>"
            ]
          },
          "metadata": {},
          "execution_count": 107
        },
        {
          "output_type": "display_data",
          "data": {
            "text/plain": [
              "<Figure size 432x288 with 2 Axes>"
            ],
            "image/png": "[encoded data removed]"
          },
          "metadata": {
            "needs_background": "light"
          }
        }
      ]
    },
    {
      "cell_type": "markdown",
      "source": [
        "Calculo de parametros (Verdarero positivo, etc.)"
      ],
      "metadata": {
        "id": "G9dRAzYiWB2l"
      }
    },
    {
      "cell_type": "code",
      "source": [
        "#Para la clase 1\n",
        "tp1= a[0,0]\n",
        "tn1= a[1,1]+a[1,2]+a[2,1]+a[2,2]\n",
        "fp1= a[0,1]+a[0,2]\n",
        "fn1= a[1,0]+a[2,0]\n",
        "#Para la clase 2\n",
        "tp2= a[1,1]\n",
        "tn2= a[0,0]+a[0,2]+a[2,0]+a[2,2]\n",
        "fp2= a[1,0]+a[1,2]\n",
        "fn2= a[0,1]+a[2,1]\n",
        "#Para la clase 3\n",
        "tp3= a[2,2]\n",
        "tn3= a[0,0]+a[0,1]+a[1,0]+a[1,1]\n",
        "fp3= a[2,0]+a[2,1]\n",
        "fn3= a[0,2]+a[1,2]"
      ],
      "metadata": {
        "id": "JlYFURDrWEHy"
      },
      "execution_count": 108,
      "outputs": []
    },
    {
      "cell_type": "markdown",
      "source": [
        "Calculo de sesgos"
      ],
      "metadata": {
        "id": "boRXapN_XuSH"
      }
    },
    {
      "cell_type": "code",
      "source": [
        "#Para la clase 1\n",
        "acc1= (tp1+tn1)/(tp1+tn1+fp1+fn1)\n",
        "#Para la clase 2\n",
        "acc2= (tp2+tn2)/(tp2+tn2+fp2+fn2)\n",
        "#Para la clase 3\n",
        "acc3= (tp3+tn3)/(tp3+tn3+fp3+fn3)\n",
        "print(acc1,acc2,acc3)\n",
        "plt.bar([1,2,3],[acc1,acc2,acc3])\n",
        "plt.title('Valores de exatitud')\n",
        "plt.xlabel('clases')\n",
        "plt.ylabel('Exactitud')"
      ],
      "metadata": {
        "colab": {
          "base_uri": "https://localhost:8080/",
          "height": 330
        },
        "id": "E_qNGUIaXwKW",
        "outputId": "648bfeac-5224-4922-b4cc-41ffb4741d28"
      },
      "execution_count": 109,
      "outputs": [
        {
          "output_type": "stream",
          "name": "stdout",
          "text": [
            "0.8857142857142857 0.8285714285714286 0.7142857142857143\n"
          ]
        },
        {
          "output_type": "execute_result",
          "data": {
            "text/plain": [
              "Text(0, 0.5, 'Excatitud')"
            ]
          },
          "metadata": {},
          "execution_count": 109
        },
        {
          "output_type": "display_data",
          "data": {
            "text/plain": [
              "<Figure size 432x288 with 1 Axes>"
            ],
            "image/png": "[encoded data removed]"
          },
          "metadata": {
            "needs_background": "light"
          }
        }
      ]
    },
    {
      "cell_type": "markdown",
      "source": [
        "Calculo de varianza"
      ],
      "metadata": {
        "id": "kpk6XHhaY13V"
      }
    },
    {
      "cell_type": "code",
      "source": [
        "#Para la clase 1\n",
        "pre1=tp1/(tp1+fp1)\n",
        "#Para la clase 2\n",
        "pre2= tp2/(tp2+fp2)\n",
        "#Para la clase 3\n",
        "pre3= tp3/(tp3+fp3)\n",
        "print(pre1,pre2,pre3)\n",
        "plt.bar([1,2,3],[pre1,pre2,pre3])\n",
        "plt.title('Valores de precision')\n",
        "plt.xlabel('clases')\n",
        "plt.ylabel('Precision')"
      ],
      "metadata": {
        "colab": {
          "base_uri": "https://localhost:8080/",
          "height": 330
        },
        "id": "S_uo4rkPY5xx",
        "outputId": "c27a0c67-e07c-4fcd-93ac-b6b0cd8408f6"
      },
      "execution_count": 110,
      "outputs": [
        {
          "output_type": "stream",
          "name": "stdout",
          "text": [
            "0.8 0.9333333333333333 0.3\n"
          ]
        },
        {
          "output_type": "execute_result",
          "data": {
            "text/plain": [
              "Text(0, 0.5, 'Precision')"
            ]
          },
          "metadata": {},
          "execution_count": 110
        },
        {
          "output_type": "display_data",
          "data": {
            "text/plain": [
              "<Figure size 432x288 with 1 Axes>"
            ],
            "image/png": "[encoded data removed]"
          },
          "metadata": {
            "needs_background": "light"
          }
        }
      ]
    },
    {
      "cell_type": "markdown",
      "source": [
        "Modelo 2"
      ],
      "metadata": {
        "id": "MLwyRVNopN6L"
      }
    },
    {
      "cell_type": "code",
      "source": [
        "columns= [\"Class\",\"Alcohol\",\"Malic acid\", \"Ash\",\"Alcalinity of ash\", \"Magnesium\",\"Total phenols\",\n",
        "           \"Flavanoids\",\"Nonflavanoid phenols\",\"Proanthocyanins\",\"Color intensity\",\"Hue\",\n",
        "           \"OD280/OD315 of diluted wines\",\"Proline\"]\n",
        "df2= pd.read_csv('wine.data',names= columns,index_col=False)\n",
        "df2= df.sample(frac=1)\n",
        "df2.head()"
      ],
      "metadata": {
        "colab": {
          "base_uri": "https://localhost:8080/",
          "height": 267
        },
        "id": "UeeGcZlYpXQQ",
        "outputId": "3823d738-7cca-4293-bf3e-5668a0514835"
      },
      "execution_count": 123,
      "outputs": [
        {
          "output_type": "execute_result",
          "data": {
            "text/plain": [
              "     Class  Alcohol  Malic acid   Ash  Alcalinity of ash  Magnesium  \\\n",
              "164      3    13.78        2.76  2.30               22.0         90   \n",
              "24       1    13.50        1.81  2.61               20.0         96   \n",
              "64       2    12.17        1.45  2.53               19.0        104   \n",
              "78       2    12.33        0.99  1.95               14.8        136   \n",
              "135      3    12.60        2.46  2.20               18.5         94   \n",
              "\n",
              "     Total phenols  Flavanoids  Nonflavanoid phenols  Proanthocyanins  \\\n",
              "164           1.35        0.68                  0.41             1.03   \n",
              "24            2.53        2.61                  0.28             1.66   \n",
              "64            1.89        1.75                  0.45             1.03   \n",
              "78            1.90        1.85                  0.35             2.76   \n",
              "135           1.62        0.66                  0.63             0.94   \n",
              "\n",
              "     Color intensity   Hue  OD280/OD315 of diluted wines  Proline  \n",
              "164             9.58  0.70                          1.68      615  \n",
              "24              3.52  1.12                          3.82      845  \n",
              "64              2.95  1.45                          2.23      355  \n",
              "78              3.40  1.06                          2.31      750  \n",
              "135             7.10  0.73                          1.58      695  "
            ],
            "text/html": [
              "\n",
              "  <div id=\"df-c18c3f09-a418-4068-8863-b68991847547\">\n",
              "    <div class=\"colab-df-container\">\n",
              "      <div>\n",
              "<style scoped>\n",
              "    .dataframe tbody tr th:only-of-type {\n",
              "        vertical-align: middle;\n",
              "    }\n",
              "\n",
              "    .dataframe tbody tr th {\n",
              "        vertical-align: top;\n",
              "    }\n",
              "\n",
              "    .dataframe thead th {\n",
              "        text-align: right;\n",
              "    }\n",
              "</style>\n",
              "<table border=\"1\" class=\"dataframe\">\n",
              "  <thead>\n",
              "    <tr style=\"text-align: right;\">\n",
              "      <th></th>\n",
              "      <th>Class</th>\n",
              "      <th>Alcohol</th>\n",
              "      <th>Malic acid</th>\n",
              "      <th>Ash</th>\n",
              "      <th>Alcalinity of ash</th>\n",
              "      <th>Magnesium</th>\n",
              "      <th>Total phenols</th>\n",
              "      <th>Flavanoids</th>\n",
              "      <th>Nonflavanoid phenols</th>\n",
              "      <th>Proanthocyanins</th>\n",
              "      <th>Color intensity</th>\n",
              "      <th>Hue</th>\n",
              "      <th>OD280/OD315 of diluted wines</th>\n",
              "      <th>Proline</th>\n",
              "    </tr>\n",
              "  </thead>\n",
              "  <tbody>\n",
              "    <tr>\n",
              "      <th>164</th>\n",
              "      <td>3</td>\n",
              "      <td>13.78</td>\n",
              "      <td>2.76</td>\n",
              "      <td>2.30</td>\n",
              "      <td>22.0</td>\n",
              "      <td>90</td>\n",
              "      <td>1.35</td>\n",
              "      <td>0.68</td>\n",
              "      <td>0.41</td>\n",
              "      <td>1.03</td>\n",
              "      <td>9.58</td>\n",
              "      <td>0.70</td>\n",
              "      <td>1.68</td>\n",
              "      <td>615</td>\n",
              "    </tr>\n",
              "    <tr>\n",
              "      <th>24</th>\n",
              "      <td>1</td>\n",
              "      <td>13.50</td>\n",
              "      <td>1.81</td>\n",
              "      <td>2.61</td>\n",
              "      <td>20.0</td>\n",
              "      <td>96</td>\n",
              "      <td>2.53</td>\n",
              "      <td>2.61</td>\n",
              "      <td>0.28</td>\n",
              "      <td>1.66</td>\n",
              "      <td>3.52</td>\n",
              "      <td>1.12</td>\n",
              "      <td>3.82</td>\n",
              "      <td>845</td>\n",
              "    </tr>\n",
              "    <tr>\n",
              "      <th>64</th>\n",
              "      <td>2</td>\n",
              "      <td>12.17</td>\n",
              "      <td>1.45</td>\n",
              "      <td>2.53</td>\n",
              "      <td>19.0</td>\n",
              "      <td>104</td>\n",
              "      <td>1.89</td>\n",
              "      <td>1.75</td>\n",
              "      <td>0.45</td>\n",
              "      <td>1.03</td>\n",
              "      <td>2.95</td>\n",
              "      <td>1.45</td>\n",
              "      <td>2.23</td>\n",
              "      <td>355</td>\n",
              "    </tr>\n",
              "    <tr>\n",
              "      <th>78</th>\n",
              "      <td>2</td>\n",
              "      <td>12.33</td>\n",
              "      <td>0.99</td>\n",
              "      <td>1.95</td>\n",
              "      <td>14.8</td>\n",
              "      <td>136</td>\n",
              "      <td>1.90</td>\n",
              "      <td>1.85</td>\n",
              "      <td>0.35</td>\n",
              "      <td>2.76</td>\n",
              "      <td>3.40</td>\n",
              "      <td>1.06</td>\n",
              "      <td>2.31</td>\n",
              "      <td>750</td>\n",
              "    </tr>\n",
              "    <tr>\n",
              "      <th>135</th>\n",
              "      <td>3</td>\n",
              "      <td>12.60</td>\n",
              "      <td>2.46</td>\n",
              "      <td>2.20</td>\n",
              "      <td>18.5</td>\n",
              "      <td>94</td>\n",
              "      <td>1.62</td>\n",
              "      <td>0.66</td>\n",
              "      <td>0.63</td>\n",
              "      <td>0.94</td>\n",
              "      <td>7.10</td>\n",
              "      <td>0.73</td>\n",
              "      <td>1.58</td>\n",
              "      <td>695</td>\n",
              "    </tr>\n",
              "  </tbody>\n",
              "</table>\n",
              "</div>\n",
              "      <button class=\"colab-df-convert\" onclick=\"convertToInteractive('df-c18c3f09-a418-4068-8863-b68991847547')\"\n",
              "              title=\"Convert this dataframe to an interactive table.\"\n",
              "              style=\"display:none;\">\n",
              "        \n",
              "  <svg xmlns=\"http://www.w3.org/2000/svg\" height=\"24px\"viewBox=\"0 0 24 24\"\n",
              "       width=\"24px\">\n",
              "    <path d=\"M0 0h24v24H0V0z\" fill=\"none\"/>\n",
              "    <path d=\"M18.56 5.44l.94 2.06.94-2.06 2.06-.94-2.06-.94-.94-2.06-.94 2.06-2.06.94zm-11 1L8.5 8.5l.94-2.06 2.06-.94-2.06-.94L8.5 2.5l-.94 2.06-2.06.94zm10 10l.94 2.06.94-2.06 2.06-.94-2.06-.94-.94-2.06-.94 2.06-2.06.94z\"/><path d=\"M17.41 7.96l-1.37-1.37c-.4-.4-.92-.59-1.43-.59-.52 0-1.04.2-1.43.59L10.3 9.45l-7.72 7.72c-.78.78-.78 2.05 0 2.83L4 21.41c.39.39.9.59 1.41.59.51 0 1.02-.2 1.41-.59l7.78-7.78 2.81-2.81c.8-.78.8-2.07 0-2.86zM5.41 20L4 18.59l7.72-7.72 1.47 1.35L5.41 20z\"/>\n",
              "  </svg>\n",
              "      </button>\n",
              "      \n",
              "  <style>\n",
              "    .colab-df-container {\n",
              "      display:flex;\n",
              "      flex-wrap:wrap;\n",
              "      gap: 12px;\n",
              "    }\n",
              "\n",
              "    .colab-df-convert {\n",
              "      background-color: #E8F0FE;\n",
              "      border: none;\n",
              "      border-radius: 50%;\n",
              "      cursor: pointer;\n",
              "      display: none;\n",
              "      fill: #1967D2;\n",
              "      height: 32px;\n",
              "      padding: 0 0 0 0;\n",
              "      width: 32px;\n",
              "    }\n",
              "\n",
              "    .colab-df-convert:hover {\n",
              "      background-color: #E2EBFA;\n",
              "      box-shadow: 0px 1px 2px rgba(60, 64, 67, 0.3), 0px 1px 3px 1px rgba(60, 64, 67, 0.15);\n",
              "      fill: #174EA6;\n",
              "    }\n",
              "\n",
              "    [theme=dark] .colab-df-convert {\n",
              "      background-color: #3B4455;\n",
              "      fill: #D2E3FC;\n",
              "    }\n",
              "\n",
              "    [theme=dark] .colab-df-convert:hover {\n",
              "      background-color: #434B5C;\n",
              "      box-shadow: 0px 1px 3px 1px rgba(0, 0, 0, 0.15);\n",
              "      filter: drop-shadow(0px 1px 2px rgba(0, 0, 0, 0.3));\n",
              "      fill: #FFFFFF;\n",
              "    }\n",
              "  </style>\n",
              "\n",
              "      <script>\n",
              "        const buttonEl =\n",
              "          document.querySelector('#df-c18c3f09-a418-4068-8863-b68991847547 button.colab-df-convert');\n",
              "        buttonEl.style.display =\n",
              "          google.colab.kernel.accessAllowed ? 'block' : 'none';\n",
              "\n",
              "        async function convertToInteractive(key) {\n",
              "          const element = document.querySelector('#df-c18c3f09-a418-4068-8863-b68991847547');\n",
              "          const dataTable =\n",
              "            await google.colab.kernel.invokeFunction('convertToInteractive',\n",
              "                                                     [key], {});\n",
              "          if (!dataTable) return;\n",
              "\n",
              "          const docLinkHtml = 'Like what you see? Visit the ' +\n",
              "            '<a target=\"_blank\" href=https://colab.research.google.com/notebooks/data_table.ipynb>data table notebook</a>'\n",
              "            + ' to learn more about interactive tables.';\n",
              "          element.innerHTML = '';\n",
              "          dataTable['output_type'] = 'display_data';\n",
              "          await google.colab.output.renderOutput(dataTable, element);\n",
              "          const docLink = document.createElement('div');\n",
              "          docLink.innerHTML = docLinkHtml;\n",
              "          element.appendChild(docLink);\n",
              "        }\n",
              "      </script>\n",
              "    </div>\n",
              "  </div>\n",
              "  "
            ]
          },
          "metadata": {},
          "execution_count": 123
        }
      ]
    },
    {
      "cell_type": "code",
      "source": [
        "df_x2= df.drop(['Class','OD280/OD315 of diluted wines','Proline'],axis=1)\n",
        "df_y2= df['Class']\n",
        "x_train2=df_x2.iloc[:107]\n",
        "x_val2= df_x2.iloc[107:142]\n",
        "x_test2= df_x2.iloc[142:]\n",
        "y_train2=df_y2.iloc[:107]\n",
        "y_val2= df_y2.iloc[107:142]\n",
        "y_test2= df_y2.iloc[142:]"
      ],
      "metadata": {
        "id": "H3GmL7l7pafH"
      },
      "execution_count": 124,
      "outputs": []
    },
    {
      "cell_type": "code",
      "source": [
        "from sklearn.linear_model import LogisticRegression\n",
        "model2= LogisticRegression(solver='newton-cg')\n",
        "model2.fit(x_train2,y_train2)\n",
        "scoretrain=model2.score(x_train2,y_train2)\n",
        "scoretest=model2.score(x_test2,y_test2)\n",
        "print('El score obtenido en los datos de entrenamiento es:',scoretrain,'\\n')\n",
        "print('El score obtenido en los datos de test es:',scoretest)"
      ],
      "metadata": {
        "colab": {
          "base_uri": "https://localhost:8080/"
        },
        "id": "yUU32Dg5pa1W",
        "outputId": "96dde1a4-a204-4d51-f5ca-8955fa3862c6"
      },
      "execution_count": 126,
      "outputs": [
        {
          "output_type": "stream",
          "name": "stdout",
          "text": [
            "El score obtenido en los datos de entrenamiento es: 0.9719626168224299 \n",
            "\n",
            "El score obtenido en los datos de test es: 0.9444444444444444\n"
          ]
        }
      ]
    },
    {
      "cell_type": "code",
      "source": [
        "from sklearn.metrics import confusion_matrix\n",
        "ypred2= model2.predict(x_val2)\n",
        "a= confusion_matrix(y_val2,ypred2)\n",
        "from sklearn.metrics import ConfusionMatrixDisplay\n",
        "ConfusionMatrixDisplay.from_predictions(y_val2, ypred2)\n"
      ],
      "metadata": {
        "colab": {
          "base_uri": "https://localhost:8080/",
          "height": 296
        },
        "id": "w8_rI5dxpp-A",
        "outputId": "62b33ca2-6fd3-4686-b8ec-009614e21fed"
      },
      "execution_count": 129,
      "outputs": [
        {
          "output_type": "execute_result",
          "data": {
            "text/plain": [
              "<sklearn.metrics._plot.confusion_matrix.ConfusionMatrixDisplay at 0x7f1e9469a650>"
            ]
          },
          "metadata": {},
          "execution_count": 129
        },
        {
          "output_type": "display_data",
          "data": {
            "text/plain": [
              "<Figure size 432x288 with 2 Axes>"
            ],
            "image/png": "[encoded data removed]"
          },
          "metadata": {
            "needs_background": "light"
          }
        }
      ]
    },
    {
      "cell_type": "code",
      "source": [
        "#Para la clase 1\n",
        "tp1= a[0,0]\n",
        "tn1= a[1,1]+a[1,2]+a[2,1]+a[2,2]\n",
        "fp1= a[0,1]+a[0,2]\n",
        "fn1= a[1,0]+a[2,0]\n",
        "#Para la clase 2\n",
        "tp2= a[1,1]\n",
        "tn2= a[0,0]+a[0,2]+a[2,0]+a[2,2]\n",
        "fp2= a[1,0]+a[1,2]\n",
        "fn2= a[0,1]+a[2,1]\n",
        "#Para la clase 3\n",
        "tp3= a[2,2]\n",
        "tn3= a[0,0]+a[0,1]+a[1,0]+a[1,1]\n",
        "fp3= a[2,0]+a[2,1]\n",
        "fn3= a[0,2]+a[1,2]"
      ],
      "metadata": {
        "id": "8i4_pywIp3wX"
      },
      "execution_count": 130,
      "outputs": []
    },
    {
      "cell_type": "code",
      "source": [
        "#Para la clase 1\n",
        "acc1= (tp1+tn1)/(tp1+tn1+fp1+fn1)\n",
        "#Para la clase 2\n",
        "acc2= (tp2+tn2)/(tp2+tn2+fp2+fn2)\n",
        "#Para la clase 3\n",
        "acc3= (tp3+tn3)/(tp3+tn3+fp3+fn3)\n",
        "print(acc1,acc2,acc3)\n",
        "plt.bar([1,2,3],[acc1,acc2,acc3])\n",
        "plt.title('Valores de exatitud')\n",
        "plt.xlabel('clases')\n",
        "plt.ylabel('Exactitud')"
      ],
      "metadata": {
        "colab": {
          "base_uri": "https://localhost:8080/",
          "height": 330
        },
        "id": "HfXTW4_2p4nP",
        "outputId": "d4fdccaf-6b45-4ccc-fd1f-f790ef405b4b"
      },
      "execution_count": 134,
      "outputs": [
        {
          "output_type": "stream",
          "name": "stdout",
          "text": [
            "0.9428571428571428 0.8857142857142857 0.9428571428571428\n"
          ]
        },
        {
          "output_type": "execute_result",
          "data": {
            "text/plain": [
              "Text(0, 0.5, 'Exactitud')"
            ]
          },
          "metadata": {},
          "execution_count": 134
        },
        {
          "output_type": "display_data",
          "data": {
            "text/plain": [
              "<Figure size 432x288 with 1 Axes>"
            ],
            "image/png": "[encoded data removed]"
          },
          "metadata": {
            "needs_background": "light"
          }
        }
      ]
    },
    {
      "cell_type": "code",
      "source": [
        "#Para la clase 1\n",
        "pre1=tp1/(tp1+fp1)\n",
        "#Para la clase 2\n",
        "pre2= tp2/(tp2+fp2)\n",
        "#Para la clase 3\n",
        "pre3= tp3/(tp3+fp3)\n",
        "print(pre1,pre2,pre3)\n",
        "plt.bar([1,2,3],[pre1,pre2,pre3])\n",
        "plt.title('Valores de precision')\n",
        "plt.xlabel('clases')\n",
        "plt.ylabel('Precision')"
      ],
      "metadata": {
        "colab": {
          "base_uri": "https://localhost:8080/",
          "height": 330
        },
        "id": "U0gI3IpEp8hP",
        "outputId": "c39cb967-93d5-4c8c-deac-38ca06ef1dde"
      },
      "execution_count": 132,
      "outputs": [
        {
          "output_type": "stream",
          "name": "stdout",
          "text": [
            "1.0 0.8666666666666667 0.8\n"
          ]
        },
        {
          "output_type": "execute_result",
          "data": {
            "text/plain": [
              "Text(0, 0.5, 'Precision')"
            ]
          },
          "metadata": {},
          "execution_count": 132
        },
        {
          "output_type": "display_data",
          "data": {
            "text/plain": [
              "<Figure size 432x288 with 1 Axes>"
            ],
            "image/png": "[encoded data removed]"
          },
          "metadata": {
            "needs_background": "light"
          }
        }
      ]
    },
    {
      "cell_type": "code",
      "source": [],
      "metadata": {
        "id": "O81HyLZCqANS"
      },
      "execution_count": null,
      "outputs": []
    },
    {
      "cell_type": "markdown",
      "source": [
        "Nivel de ajuste del modelo"
      ],
      "metadata": {
        "id": "prG-2YgfZnhI"
      }
    },
    {
      "cell_type": "code",
      "source": [
        "from sklearn.datasets import load_digits\n",
        "from sklearn.model_selection import learning_curve\n",
        "from sklearn.model_selection import ShuffleSplit\n",
        "\n",
        "\n",
        "def plot_learning_curve(\n",
        "    estimator,\n",
        "    title,\n",
        "    X,\n",
        "    y,\n",
        "    axes=None,\n",
        "    ylim=None,\n",
        "    cv=None,\n",
        "    n_jobs=None,\n",
        "    scoring=None,\n",
        "    train_sizes=np.linspace(0.1, 1.0, 5),\n",
        "):\n",
        "    \"\"\"\n",
        "    Generate 3 plots: the test and training learning curve, the training\n",
        "    samples vs fit times curve, the fit times vs score curve.\n",
        "\n",
        "    Parameters\n",
        "    ----------\n",
        "    estimator : estimator instance\n",
        "        An estimator instance implementing `fit` and `predict` methods which\n",
        "        will be cloned for each validation.\n",
        "\n",
        "    title : str\n",
        "        Title for the chart.\n",
        "\n",
        "    X : array-like of shape (n_samples, n_features)\n",
        "        Training vector, where ``n_samples`` is the number of samples and\n",
        "        ``n_features`` is the number of features.\n",
        "\n",
        "    y : array-like of shape (n_samples) or (n_samples, n_features)\n",
        "        Target relative to ``X`` for classification or regression;\n",
        "        None for unsupervised learning.\n",
        "\n",
        "    axes : array-like of shape (3,), default=None\n",
        "        Axes to use for plotting the curves.\n",
        "\n",
        "    ylim : tuple of shape (2,), default=None\n",
        "        Defines minimum and maximum y-values plotted, e.g. (ymin, ymax).\n",
        "\n",
        "    cv : int, cross-validation generator or an iterable, default=None\n",
        "        Determines the cross-validation splitting strategy.\n",
        "        Possible inputs for cv are:\n",
        "\n",
        "          - None, to use the default 5-fold cross-validation,\n",
        "          - integer, to specify the number of folds.\n",
        "          - :term:`CV splitter`,\n",
        "          - An iterable yielding (train, test) splits as arrays of indices.\n",
        "\n",
        "        For integer/None inputs, if ``y`` is binary or multiclass,\n",
        "        :class:`StratifiedKFold` used. If the estimator is not a classifier\n",
        "        or if ``y`` is neither binary nor multiclass, :class:`KFold` is used.\n",
        "\n",
        "        Refer :ref:`User Guide <cross_validation>` for the various\n",
        "        cross-validators that can be used here.\n",
        "\n",
        "    n_jobs : int or None, default=None\n",
        "        Number of jobs to run in parallel.\n",
        "        ``None`` means 1 unless in a :obj:`joblib.parallel_backend` context.\n",
        "        ``-1`` means using all processors. See :term:`Glossary <n_jobs>`\n",
        "        for more details.\n",
        "\n",
        "    scoring : str or callable, default=None\n",
        "        A str (see model evaluation documentation) or\n",
        "        a scorer callable object / function with signature\n",
        "        ``scorer(estimator, X, y)``.\n",
        "\n",
        "    train_sizes : array-like of shape (n_ticks,)\n",
        "        Relative or absolute numbers of training examples that will be used to\n",
        "        generate the learning curve. If the ``dtype`` is float, it is regarded\n",
        "        as a fraction of the maximum size of the training set (that is\n",
        "        determined by the selected validation method), i.e. it has to be within\n",
        "        (0, 1]. Otherwise it is interpreted as absolute sizes of the training\n",
        "        sets. Note that for classification the number of samples usually have\n",
        "        to be big enough to contain at least one sample from each class.\n",
        "        (default: np.linspace(0.1, 1.0, 5))\n",
        "    \"\"\"\n",
        "    if axes is None:\n",
        "        _, axes = plt.subplots(1, 3, figsize=(20, 5))\n",
        "\n",
        "    axes[0].set_title(title)\n",
        "    if ylim is not None:\n",
        "        axes[0].set_ylim(*ylim)\n",
        "    axes[0].set_xlabel(\"Training examples\")\n",
        "    axes[0].set_ylabel(\"Score\")\n",
        "\n",
        "    train_sizes, train_scores, test_scores, fit_times, _ = learning_curve(\n",
        "        estimator,\n",
        "        X,\n",
        "        y,\n",
        "        scoring=scoring,\n",
        "        cv=cv,\n",
        "        n_jobs=n_jobs,\n",
        "        train_sizes=train_sizes,\n",
        "        return_times=True,\n",
        "    )\n",
        "    train_scores_mean = np.mean(train_scores, axis=1)\n",
        "    train_scores_std = np.std(train_scores, axis=1)\n",
        "    test_scores_mean = np.mean(test_scores, axis=1)\n",
        "    test_scores_std = np.std(test_scores, axis=1)\n",
        "    fit_times_mean = np.mean(fit_times, axis=1)\n",
        "    fit_times_std = np.std(fit_times, axis=1)\n",
        "\n",
        "    # Plot learning curve\n",
        "    axes[0].grid()\n",
        "    axes[0].fill_between(\n",
        "        train_sizes,\n",
        "        train_scores_mean - train_scores_std,\n",
        "        train_scores_mean + train_scores_std,\n",
        "        alpha=0.1,\n",
        "        color=\"r\",\n",
        "    )\n",
        "    axes[0].fill_between(\n",
        "        train_sizes,\n",
        "        test_scores_mean - test_scores_std,\n",
        "        test_scores_mean + test_scores_std,\n",
        "        alpha=0.1,\n",
        "        color=\"g\",\n",
        "    )\n",
        "    axes[0].plot(\n",
        "        train_sizes, train_scores_mean, \"o-\", color=\"r\", label=\"Training score\"\n",
        "    )\n",
        "    axes[0].plot(\n",
        "        train_sizes, test_scores_mean, \"o-\", color=\"g\", label=\"Cross-validation score\"\n",
        "    )\n",
        "    axes[0].legend(loc=\"best\")\n",
        "\n",
        "    # Plot n_samples vs fit_times\n",
        "    axes[1].grid()\n",
        "    axes[1].plot(train_sizes, fit_times_mean, \"o-\")\n",
        "    axes[1].fill_between(\n",
        "        train_sizes,\n",
        "        fit_times_mean - fit_times_std,\n",
        "        fit_times_mean + fit_times_std,\n",
        "        alpha=0.1,\n",
        "    )\n",
        "    axes[1].set_xlabel(\"Training examples\")\n",
        "    axes[1].set_ylabel(\"fit_times\")\n",
        "    axes[1].set_title(\"Scalability of the model\")\n",
        "\n",
        "    # Plot fit_time vs score\n",
        "    fit_time_argsort = fit_times_mean.argsort()\n",
        "    fit_time_sorted = fit_times_mean[fit_time_argsort]\n",
        "    test_scores_mean_sorted = test_scores_mean[fit_time_argsort]\n",
        "    test_scores_std_sorted = test_scores_std[fit_time_argsort]\n",
        "    axes[2].grid()\n",
        "    axes[2].plot(fit_time_sorted, test_scores_mean_sorted, \"o-\")\n",
        "    axes[2].fill_between(\n",
        "        fit_time_sorted,\n",
        "        test_scores_mean_sorted - test_scores_std_sorted,\n",
        "        test_scores_mean_sorted + test_scores_std_sorted,\n",
        "        alpha=0.1,\n",
        "    )\n",
        "    axes[2].set_xlabel(\"fit_times\")\n",
        "    axes[2].set_ylabel(\"Score\")\n",
        "    axes[2].set_title(\"Performance of the model\")\n",
        "\n",
        "    return plt\n",
        "\n",
        "\n",
        "fig, axes = plt.subplots(3, 2, figsize=(10, 15))\n",
        "\n",
        "\n",
        "title = \"Learning Curves (Logistic Regression)\"\n",
        "# Cross validation with 50 iterations to get smoother mean test and train\n",
        "# score curves, each time with 20% data randomly selected as a validation set.\n",
        "cv = ShuffleSplit(n_splits=50, test_size=0.2, random_state=0)\n",
        "\n",
        "estimator = model2\n",
        "plot_learning_curve(\n",
        "    estimator,\n",
        "    title,\n",
        "    df_x2,\n",
        "    df_y2,\n",
        "    axes=axes[:, 0],\n",
        "    ylim=(0.7, 1.01),\n",
        "    cv=cv,\n",
        "    n_jobs=4,\n",
        "    scoring=\"accuracy\",\n",
        ")\n",
        "plt.show()"
      ],
      "metadata": {
        "colab": {
          "base_uri": "https://localhost:8080/",
          "height": 894
        },
        "id": "ovutxPLxZs2M",
        "outputId": "8a6c1572-4db9-4d8c-8ee7-e8773fc61216"
      },
      "execution_count": 135,
      "outputs": [
        {
          "output_type": "display_data",
          "data": {
            "text/plain": [
              "<Figure size 720x1080 with 6 Axes>"
            ],
            "image/png": "[encoded data removed]"
          },
          "metadata": {
            "needs_background": "light"
          }
        }
      ]
    }
  ]
}